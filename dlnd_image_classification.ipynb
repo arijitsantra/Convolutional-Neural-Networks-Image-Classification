{
 "cells": [
  {
   "cell_type": "markdown",
   "metadata": {
    "collapsed": true
   },
   "source": [
    "# Image Classification\n",
    "In this project, you'll classify images from the [CIFAR-10 dataset](https://www.cs.toronto.edu/~kriz/cifar.html).  The dataset consists of airplanes, dogs, cats, and other objects. You'll preprocess the images, then train a convolutional neural network on all the samples. The images need to be normalized and the labels need to be one-hot encoded.  You'll get to apply what you learned and build a convolutional, max pooling, dropout, and fully connected layers.  At the end, you'll get to see your neural network's predictions on the sample images.\n",
    "## Get the Data\n",
    "Run the following cell to download the [CIFAR-10 dataset for python](https://www.cs.toronto.edu/~kriz/cifar-10-python.tar.gz)."
   ]
  },
  {
   "cell_type": "code",
   "execution_count": 67,
   "metadata": {},
   "outputs": [
    {
     "name": "stdout",
     "output_type": "stream",
     "text": [
      "All files found!\n"
     ]
    }
   ],
   "source": [
    "\"\"\"\n",
    "DON'T MODIFY ANYTHING IN THIS CELL THAT IS BELOW THIS LINE\n",
    "\"\"\"\n",
    "from urllib.request import urlretrieve\n",
    "from os.path import isfile, isdir\n",
    "from tqdm import tqdm\n",
    "import problem_unittests as tests\n",
    "import tarfile\n",
    "\n",
    "cifar10_dataset_folder_path = 'cifar-10-batches-py'\n",
    "\n",
    "class DLProgress(tqdm):\n",
    "    last_block = 0\n",
    "\n",
    "    def hook(self, block_num=1, block_size=1, total_size=None):\n",
    "        self.total = total_size\n",
    "        self.update((block_num - self.last_block) * block_size)\n",
    "        self.last_block = block_num\n",
    "\n",
    "if not isfile('cifar-10-python.tar.gz'):\n",
    "    with DLProgress(unit='B', unit_scale=True, miniters=1, desc='CIFAR-10 Dataset') as pbar:\n",
    "        urlretrieve(\n",
    "            'https://www.cs.toronto.edu/~kriz/cifar-10-python.tar.gz',\n",
    "            'cifar-10-python.tar.gz',\n",
    "            pbar.hook)\n",
    "\n",
    "if not isdir(cifar10_dataset_folder_path):\n",
    "    with tarfile.open('cifar-10-python.tar.gz') as tar:\n",
    "        tar.extractall()\n",
    "        tar.close()\n",
    "\n",
    "\n",
    "tests.test_folder_path(cifar10_dataset_folder_path)"
   ]
  },
  {
   "cell_type": "markdown",
   "metadata": {},
   "source": [
    "## Explore the Data\n",
    "The dataset is broken into batches to prevent your machine from running out of memory.  The CIFAR-10 dataset consists of 5 batches, named `data_batch_1`, `data_batch_2`, etc.. Each batch contains the labels and images that are one of the following:\n",
    "* airplane\n",
    "* automobile\n",
    "* bird\n",
    "* cat\n",
    "* deer\n",
    "* dog\n",
    "* frog\n",
    "* horse\n",
    "* ship\n",
    "* truck\n",
    "\n",
    "Understanding a dataset is part of making predictions on the data.  Play around with the code cell below by changing the `batch_id` and `sample_id`. The `batch_id` is the id for a batch (1-5). The `sample_id` is the id for a image and label pair in the batch.\n",
    "\n",
    "Ask yourself \"What are all possible labels?\", \"What is the range of values for the image data?\", \"Are the labels in order or random?\".  Answers to questions like these will help you preprocess the data and end up with better predictions."
   ]
  },
  {
   "cell_type": "code",
   "execution_count": 68,
   "metadata": {},
   "outputs": [
    {
     "name": "stdout",
     "output_type": "stream",
     "text": [
      "\n",
      "Stats of batch 2:\n",
      "Samples: 10000\n",
      "Label Counts: {0: 984, 1: 1007, 2: 1010, 3: 995, 4: 1010, 5: 988, 6: 1008, 7: 1026, 8: 987, 9: 985}\n",
      "First 20 Labels: [1, 6, 6, 8, 8, 3, 4, 6, 0, 6, 0, 3, 6, 6, 5, 4, 8, 3, 2, 6]\n",
      "\n",
      "Example of Image 3:\n",
      "Image - Min Value: 4 Max Value: 255\n",
      "Image - Shape: (32, 32, 3)\n",
      "Label - Label Id: 8 Name: ship\n"
     ]
    },
    {
     "data": {
      "image/png": "[encoded data removed]",
      "text/plain": [
       "<Figure size 432x288 with 1 Axes>"
      ]
     },
     "metadata": {
      "image/png": {
       "height": 250,
       "width": 253
      }
     },
     "output_type": "display_data"
    }
   ],
   "source": [
    "%matplotlib inline\n",
    "%config InlineBackend.figure_format = 'retina'\n",
    "\n",
    "import helper\n",
    "import numpy as np\n",
    "\n",
    "# Explore the dataset\n",
    "batch_id = 2\n",
    "sample_id = 3\n",
    "helper.display_stats(cifar10_dataset_folder_path, batch_id, sample_id)"
   ]
  },
  {
   "cell_type": "markdown",
   "metadata": {},
   "source": [
    "## Implement Preprocess Functions\n",
    "### Normalize\n",
    "In the cell below, implement the `normalize` function to take in image data, `x`, and return it as a normalized Numpy array. The values should be in the range of 0 to 1, inclusive.  The return object should be the same shape as `x`."
   ]
  },
  {
   "cell_type": "code",
   "execution_count": 69,
   "metadata": {},
   "outputs": [
    {
     "name": "stdout",
     "output_type": "stream",
     "text": [
      "Tests Passed\n"
     ]
    }
   ],
   "source": [
    "def normalize(x):\n",
    "    \"\"\"\n",
    "    Normalize a list of sample image data in the range of 0 to 1\n",
    "    : x: List of image data.  The image shape is (32, 32, 3)\n",
    "    : return: Numpy array of normalize data\n",
    "    \"\"\"\n",
    "    # TODO: Implement Function\n",
    "    return np.array(x/255)\n",
    "\n",
    "\n",
    "\"\"\"\n",
    "DON'T MODIFY ANYTHING IN THIS CELL THAT IS BELOW THIS LINE\n",
    "\"\"\"\n",
    "tests.test_normalize(normalize)"
   ]
  },
  {
   "cell_type": "markdown",
   "metadata": {},
   "source": [
    "### One-hot encode\n",
    "Just like the previous code cell, you'll be implementing a function for preprocessing.  This time, you'll implement the `one_hot_encode` function. The input, `x`, are a list of labels.  Implement the function to return the list of labels as One-Hot encoded Numpy array.  The possible values for labels are 0 to 9. The one-hot encoding function should return the same encoding for each value between each call to `one_hot_encode`.  Make sure to save the map of encodings outside the function.\n",
    "\n",
    "**Hint:**\n",
    "\n",
    "Look into LabelBinarizer in the preprocessing module of sklearn."
   ]
  },
  {
   "cell_type": "code",
   "execution_count": 70,
   "metadata": {},
   "outputs": [
    {
     "name": "stdout",
     "output_type": "stream",
     "text": [
      "Tests Passed\n"
     ]
    }
   ],
   "source": [
    "from sklearn.preprocessing import OneHotEncoder\n",
    "onehotEncoder = OneHotEncoder(n_values=10)\n",
    "def one_hot_encode(x):\n",
    "    \"\"\"\n",
    "    One hot encode a list of sample labels. Return a one-hot encoded vector for each label.\n",
    "    : x: List of sample Labels\n",
    "    : return: Numpy array of one-hot encoded labels\n",
    "    \"\"\"\n",
    "    # TODO: Implement Function\n",
    "    n = np.array(x).reshape(-1,1)\n",
    "    return onehotEncoder.fit_transform(n).toarray()\n",
    "\n",
    "\n",
    "\"\"\"\n",
    "DON'T MODIFY ANYTHING IN THIS CELL THAT IS BELOW THIS LINE\n",
    "\"\"\"\n",
    "tests.test_one_hot_encode(one_hot_encode)"
   ]
  },
  {
   "cell_type": "markdown",
   "metadata": {},
   "source": [
    "### Randomize Data\n",
    "As you saw from exploring the data above, the order of the samples are randomized.  It doesn't hurt to randomize it again, but you don't need to for this dataset."
   ]
  },
  {
   "cell_type": "markdown",
   "metadata": {},
   "source": [
    "## Preprocess all the data and save it\n",
    "Running the code cell below will preprocess all the CIFAR-10 data and save it to file. The code below also uses 10% of the training data for validation."
   ]
  },
  {
   "cell_type": "code",
   "execution_count": 72,
   "metadata": {},
   "outputs": [],
   "source": [
    "\"\"\"\n",
    "DON'T MODIFY ANYTHING IN THIS CELL\n",
    "\"\"\"\n",
    "# Preprocess Training, Validation, and Testing Data\n",
    "helper.preprocess_and_save_data(cifar10_dataset_folder_path, normalize, one_hot_encode)"
   ]
  },
  {
   "cell_type": "markdown",
   "metadata": {},
   "source": [
    "# Check Point\n",
    "This is your first checkpoint.  If you ever decide to come back to this notebook or have to restart the notebook, you can start from here.  The preprocessed data has been saved to disk."
   ]
  },
  {
   "cell_type": "code",
   "execution_count": 1,
   "metadata": {},
   "outputs": [],
   "source": [
    "\"\"\"\n",
    "DON'T MODIFY ANYTHING IN THIS CELL\n",
    "\"\"\"\n",
    "import pickle\n",
    "import problem_unittests as tests\n",
    "import helper\n",
    "\n",
    "# Load the Preprocessed Validation data\n",
    "valid_features, valid_labels = pickle.load(open('preprocess_validation.p', mode='rb'))"
   ]
  },
  {
   "cell_type": "markdown",
   "metadata": {},
   "source": [
    "## Build the network\n",
    "For the neural network, you'll build each layer into a function.  Most of the code you've seen has been outside of functions. To test your code more thoroughly, we require that you put each layer in a function.  This allows us to give you better feedback and test for simple mistakes using our unittests before you submit your project.\n",
    "\n",
    ">**Note:** If you're finding it hard to dedicate enough time for this course each week, we've provided a small shortcut to this part of the project. In the next couple of problems, you'll have the option to use classes from the [TensorFlow Layers](https://www.tensorflow.org/api_docs/python/tf/layers) or [TensorFlow Layers (contrib)](https://www.tensorflow.org/api_guides/python/contrib.layers) packages to build each layer, except the layers you build in the \"Convolutional and Max Pooling Layer\" section.  TF Layers is similar to Keras's and TFLearn's abstraction to layers, so it's easy to pickup.\n",
    "\n",
    ">However, if you would like to get the most out of this course, try to solve all the problems _without_ using anything from the TF Layers packages. You **can** still use classes from other packages that happen to have the same name as ones you find in TF Layers! For example, instead of using the TF Layers version of the `conv2d` class, [tf.layers.conv2d](https://www.tensorflow.org/api_docs/python/tf/layers/conv2d), you would want to use the TF Neural Network version of `conv2d`, [tf.nn.conv2d](https://www.tensorflow.org/api_docs/python/tf/nn/conv2d). \n",
    "\n",
    "Let's begin!\n",
    "\n",
    "### Input\n",
    "The neural network needs to read the image data, one-hot encoded labels, and dropout keep probability. Implement the following functions\n",
    "* Implement `neural_net_image_input`\n",
    " * Return a [TF Placeholder](https://www.tensorflow.org/api_docs/python/tf/placeholder)\n",
    " * Set the shape using `image_shape` with batch size set to `None`.\n",
    " * Name the TensorFlow placeholder \"x\" using the TensorFlow `name` parameter in the [TF Placeholder](https://www.tensorflow.org/api_docs/python/tf/placeholder).\n",
    "* Implement `neural_net_label_input`\n",
    " * Return a [TF Placeholder](https://www.tensorflow.org/api_docs/python/tf/placeholder)\n",
    " * Set the shape using `n_classes` with batch size set to `None`.\n",
    " * Name the TensorFlow placeholder \"y\" using the TensorFlow `name` parameter in the [TF Placeholder](https://www.tensorflow.org/api_docs/python/tf/placeholder).\n",
    "* Implement `neural_net_keep_prob_input`\n",
    " * Return a [TF Placeholder](https://www.tensorflow.org/api_docs/python/tf/placeholder) for dropout keep probability.\n",
    " * Name the TensorFlow placeholder \"keep_prob\" using the TensorFlow `name` parameter in the [TF Placeholder](https://www.tensorflow.org/api_docs/python/tf/placeholder).\n",
    "\n",
    "These names will be used at the end of the project to load your saved model.\n",
    "\n",
    "Note: `None` for shapes in TensorFlow allow for a dynamic size."
   ]
  },
  {
   "cell_type": "code",
   "execution_count": 2,
   "metadata": {},
   "outputs": [
    {
     "name": "stdout",
     "output_type": "stream",
     "text": [
      "Image Input Tests Passed.\n",
      "Label Input Tests Passed.\n",
      "Keep Prob Tests Passed.\n"
     ]
    }
   ],
   "source": [
    "import tensorflow as tf\n",
    "\n",
    "def neural_net_image_input(image_shape):\n",
    "    \"\"\"\n",
    "    Return a Tensor for a batch of image input\n",
    "    : image_shape: Shape of the images\n",
    "    : return: Tensor for image input.\n",
    "    \"\"\"\n",
    "    # TODO: Implement Function\n",
    "    return tf.placeholder(tf.float32, shape=(None, *image_shape), name='x')\n",
    "\n",
    "\n",
    "def neural_net_label_input(n_classes):\n",
    "    \"\"\"\n",
    "    Return a Tensor for a batch of label input\n",
    "    : n_classes: Number of classes\n",
    "    : return: Tensor for label input.\n",
    "    \"\"\"\n",
    "    # TODO: Implement Function\n",
    "    return tf.placeholder(tf.float32, shape=(None, n_classes), name='y')\n",
    "\n",
    "\n",
    "def neural_net_keep_prob_input():\n",
    "    \"\"\"\n",
    "    Return a Tensor for keep probability\n",
    "    : return: Tensor for keep probability.\n",
    "    \"\"\"\n",
    "    # TODO: Implement Function\n",
    "    return tf.placeholder(tf.float32, name='keep_prob')\n",
    "    \n",
    "\n",
    "\n",
    "\"\"\"\n",
    "DON'T MODIFY ANYTHING IN THIS CELL THAT IS BELOW THIS LINE\n",
    "\"\"\"\n",
    "tf.reset_default_graph()\n",
    "tests.test_nn_image_inputs(neural_net_image_input)\n",
    "tests.test_nn_label_inputs(neural_net_label_input)\n",
    "tests.test_nn_keep_prob_inputs(neural_net_keep_prob_input)"
   ]
  },
  {
   "cell_type": "markdown",
   "metadata": {},
   "source": [
    "### Convolution and Max Pooling Layer\n",
    "Convolution layers have a lot of success with images. For this code cell, you should implement the function `conv2d_maxpool` to apply convolution then max pooling:\n",
    "* Create the weight and bias using `conv_ksize`, `conv_num_outputs` and the shape of `x_tensor`.\n",
    "* Apply a convolution to `x_tensor` using weight and `conv_strides`.\n",
    " * We recommend you use same padding, but you're welcome to use any padding.\n",
    "* Add bias\n",
    "* Add a nonlinear activation to the convolution.\n",
    "* Apply Max Pooling using `pool_ksize` and `pool_strides`.\n",
    " * We recommend you use same padding, but you're welcome to use any padding.\n",
    "\n",
    "**Note:** You **can't** use [TensorFlow Layers](https://www.tensorflow.org/api_docs/python/tf/layers) or [TensorFlow Layers (contrib)](https://www.tensorflow.org/api_guides/python/contrib.layers) for **this** layer, but you can still use TensorFlow's [Neural Network](https://www.tensorflow.org/api_docs/python/tf/nn) package. You may still use the shortcut option for all the **other** layers.\n",
    "\n",
    "** Hint: **\n",
    "\n",
    "When unpacking values as an argument in Python, look into the [unpacking](https://docs.python.org/3/tutorial/controlflow.html#unpacking-argument-lists) operator. "
   ]
  },
  {
   "cell_type": "code",
   "execution_count": 13,
   "metadata": {},
   "outputs": [
    {
     "name": "stdout",
     "output_type": "stream",
     "text": [
      "Tests Passed\n"
     ]
    }
   ],
   "source": [
    "def conv2d_maxpool(x_tensor, conv_num_outputs, conv_ksize, conv_strides, pool_ksize, pool_strides):\n",
    "    \"\"\"\n",
    "    Apply convolution then max pooling to x_tensor\n",
    "    :param x_tensor: TensorFlow Tensor\n",
    "    :param conv_num_outputs: Number of outputs for the convolutional layer\n",
    "    :param conv_ksize: kernal size 2-D Tuple for the convolutional layer\n",
    "    :param conv_strides: Stride 2-D Tuple for convolution\n",
    "    :param pool_ksize: kernal size 2-D Tuple for pool\n",
    "    :param pool_strides: Stride 2-D Tuple for pool\n",
    "    : return: A tensor that represents convolution and max pooling of x_tensor\n",
    "    \"\"\"\n",
    "    # TODO: Implement Function\n",
    "    weight = tf.Variable(tf.truncated_normal([conv_ksize[0], conv_ksize[1], x_tensor.get_shape().as_list()[3], conv_num_outputs], stddev=0.1))\n",
    "    bias = tf.Variable(tf.zeros(conv_num_outputs))\n",
    "    conv_layer = tf.nn.conv2d(x_tensor, weight, strides=[1, conv_strides[0], conv_strides[1], 1], padding='SAME')\n",
    "    conv_layer = tf.nn.bias_add(conv_layer, bias)\n",
    "    conv_layer = tf.nn.relu(conv_layer)\n",
    "    maxpool_layer = tf.nn.max_pool(conv_layer, ksize=[1, pool_ksize[0], pool_ksize[1], 1], strides=[1, pool_strides[0], pool_strides[1], 1],padding='SAME')\n",
    "    return maxpool_layer\n",
    "    \n",
    "\n",
    "\n",
    "\"\"\"\n",
    "DON'T MODIFY ANYTHING IN THIS CELL THAT IS BELOW THIS LINE\n",
    "\"\"\"\n",
    "tests.test_con_pool(conv2d_maxpool)"
   ]
  },
  {
   "cell_type": "markdown",
   "metadata": {},
   "source": [
    "### Flatten Layer\n",
    "Implement the `flatten` function to change the dimension of `x_tensor` from a 4-D tensor to a 2-D tensor.  The output should be the shape (*Batch Size*, *Flattened Image Size*). Shortcut option: you can use classes from the [TensorFlow Layers](https://www.tensorflow.org/api_docs/python/tf/layers) or [TensorFlow Layers (contrib)](https://www.tensorflow.org/api_guides/python/contrib.layers) packages for this layer. For more of a challenge, only use other TensorFlow packages."
   ]
  },
  {
   "cell_type": "code",
   "execution_count": 14,
   "metadata": {},
   "outputs": [
    {
     "name": "stdout",
     "output_type": "stream",
     "text": [
      "Tests Passed\n"
     ]
    }
   ],
   "source": [
    "def flatten(x_tensor):\n",
    "    \"\"\"\n",
    "    Flatten x_tensor to (Batch Size, Flattened Image Size)\n",
    "    : x_tensor: A tensor of size (Batch Size, ...), where ... are the image dimensions.\n",
    "    : return: A tensor of size (Batch Size, Flattened Image Size).\n",
    "    \"\"\"\n",
    "    # TODO: Implement Function\n",
    "    return tf.contrib.layers.flatten(x_tensor)\n",
    "\n",
    "\n",
    "\"\"\"\n",
    "DON'T MODIFY ANYTHING IN THIS CELL THAT IS BELOW THIS LINE\n",
    "\"\"\"\n",
    "tests.test_flatten(flatten)"
   ]
  },
  {
   "cell_type": "markdown",
   "metadata": {},
   "source": [
    "### Fully-Connected Layer\n",
    "Implement the `fully_conn` function to apply a fully connected layer to `x_tensor` with the shape (*Batch Size*, *num_outputs*). Shortcut option: you can use classes from the [TensorFlow Layers](https://www.tensorflow.org/api_docs/python/tf/layers) or [TensorFlow Layers (contrib)](https://www.tensorflow.org/api_guides/python/contrib.layers) packages for this layer. For more of a challenge, only use other TensorFlow packages."
   ]
  },
  {
   "cell_type": "code",
   "execution_count": 15,
   "metadata": {},
   "outputs": [
    {
     "name": "stdout",
     "output_type": "stream",
     "text": [
      "Tests Passed\n"
     ]
    }
   ],
   "source": [
    "def fully_conn(x_tensor, num_outputs):\n",
    "    \"\"\"\n",
    "    Apply a fully connected layer to x_tensor using weight and bias\n",
    "    : x_tensor: A 2-D tensor where the first dimension is batch size.\n",
    "    : num_outputs: The number of output that the new tensor should be.\n",
    "    : return: A 2-D tensor where the second dimension is num_outputs.\n",
    "    \"\"\"\n",
    "    # TODO: Implement Function\n",
    "    num_features = x_tensor.get_shape().as_list()[1]\n",
    "    weight = tf.Variable(tf.truncated_normal((num_features, num_outputs),stddev=0.5))\n",
    "    bias = tf.Variable(tf.zeros(num_outputs))\n",
    "    output = tf.add(tf.matmul(x_tensor, weight), bias)\n",
    "    return tf.nn.relu(output)\n",
    "\n",
    "\n",
    "\"\"\"\n",
    "DON'T MODIFY ANYTHING IN THIS CELL THAT IS BELOW THIS LINE\n",
    "\"\"\"\n",
    "tests.test_fully_conn(fully_conn)"
   ]
  },
  {
   "cell_type": "markdown",
   "metadata": {},
   "source": [
    "### Output Layer\n",
    "Implement the `output` function to apply a fully connected layer to `x_tensor` with the shape (*Batch Size*, *num_outputs*). Shortcut option: you can use classes from the [TensorFlow Layers](https://www.tensorflow.org/api_docs/python/tf/layers) or [TensorFlow Layers (contrib)](https://www.tensorflow.org/api_guides/python/contrib.layers) packages for this layer. For more of a challenge, only use other TensorFlow packages.\n",
    "\n",
    "**Note:** Activation, softmax, or cross entropy should **not** be applied to this."
   ]
  },
  {
   "cell_type": "code",
   "execution_count": 16,
   "metadata": {},
   "outputs": [
    {
     "name": "stdout",
     "output_type": "stream",
     "text": [
      "Tests Passed\n"
     ]
    }
   ],
   "source": [
    "def output(x_tensor, num_outputs):\n",
    "    \"\"\"\n",
    "    Apply a output layer to x_tensor using weight and bias\n",
    "    : x_tensor: A 2-D tensor where the first dimension is batch size.\n",
    "    : num_outputs: The number of output that the new tensor should be.\n",
    "    : return: A 2-D tensor where the second dimension is num_outputs.\n",
    "    \"\"\"\n",
    "    # TODO: Implement Function\n",
    "    num_features = x_tensor.get_shape().as_list()[1]\n",
    "    weight = tf.Variable(tf.truncated_normal((num_features, num_outputs), stddev=0.1))\n",
    "    bias = tf.Variable(tf.zeros(num_outputs))\n",
    "    return tf.add(tf.matmul(x_tensor, weight), bias)\n",
    "\n",
    "\"\"\"\n",
    "DON'T MODIFY ANYTHING IN THIS CELL THAT IS BELOW THIS LINE\n",
    "\"\"\"\n",
    "tests.test_output(output)"
   ]
  },
  {
   "cell_type": "markdown",
   "metadata": {},
   "source": [
    "### Create Convolutional Model\n",
    "Implement the function `conv_net` to create a convolutional neural network model. The function takes in a batch of images, `x`, and outputs logits.  Use the layers you created above to create this model:\n",
    "\n",
    "* Apply 1, 2, or 3 Convolution and Max Pool layers\n",
    "* Apply a Flatten Layer\n",
    "* Apply 1, 2, or 3 Fully Connected Layers\n",
    "* Apply an Output Layer\n",
    "* Return the output\n",
    "* Apply [TensorFlow's Dropout](https://www.tensorflow.org/api_docs/python/tf/nn/dropout) to one or more layers in the model using `keep_prob`. "
   ]
  },
  {
   "cell_type": "code",
   "execution_count": 17,
   "metadata": {},
   "outputs": [
    {
     "name": "stdout",
     "output_type": "stream",
     "text": [
      "Neural Network Built!\n"
     ]
    }
   ],
   "source": [
    "def conv_net(x, keep_prob):\n",
    "    \"\"\"\n",
    "    Create a convolutional neural network model\n",
    "    : x: Placeholder tensor that holds image data.\n",
    "    : keep_prob: Placeholder tensor that hold dropout keep probability.\n",
    "    : return: Tensor that represents logits\n",
    "    \"\"\"\n",
    "    # TODO: Apply 1, 2, or 3 Convolution and Max Pool layers\n",
    "    #    Play around with different number of outputs, kernel size and stride\n",
    "    # Function Definition from Above:\n",
    "    #    conv2d_maxpool(x_tensor, conv_num_outputs, conv_ksize, conv_strides, pool_ksize, pool_strides)\n",
    "    x = conv2d_maxpool(x, 32, (3, 3), (1, 1), (2, 2), (2, 2))\n",
    "    x = conv2d_maxpool(x, 48, (3, 3), (1, 1), (2, 2), (2, 2))\n",
    "    x = conv2d_maxpool(x, 64, (3, 3), (1, 1), (2, 2), (2, 2)) \n",
    "    \n",
    "    # TODO: Apply a Flatten Layer\n",
    "    # Function Definition from Above:\n",
    "    #   flatten(x_tensor)\n",
    "    x = flatten(x)\n",
    "\n",
    "    # TODO: Apply 1, 2, or 3 Fully Connected Layers\n",
    "    #    Play around with different number of outputs\n",
    "    # Function Definition from Above:\n",
    "    #   fully_conn(x_tensor, num_outputs)\n",
    "    x = fully_conn(x, 128)\n",
    "    x = tf.nn.dropout(x, keep_prob=keep_prob)\n",
    "    \n",
    "    # TODO: Apply an Output Layer\n",
    "    #    Set this to the number of classes\n",
    "    # Function Definition from Above:\n",
    "    #   output(x_tensor, num_outputs)\n",
    "    x = output(x, 10)\n",
    "    \n",
    "    # TODO: return output\n",
    "    return x\n",
    "\n",
    "\n",
    "\"\"\"\n",
    "DON'T MODIFY ANYTHING IN THIS CELL THAT IS BELOW THIS LINE\n",
    "\"\"\"\n",
    "\n",
    "##############################\n",
    "## Build the Neural Network ##\n",
    "##############################\n",
    "\n",
    "# Remove previous weights, bias, inputs, etc..\n",
    "tf.reset_default_graph()\n",
    "\n",
    "# Inputs\n",
    "x = neural_net_image_input((32, 32, 3))\n",
    "y = neural_net_label_input(10)\n",
    "keep_prob = neural_net_keep_prob_input()\n",
    "\n",
    "# Model\n",
    "logits = conv_net(x, keep_prob)\n",
    "\n",
    "# Name logits Tensor, so that is can be loaded from disk after training\n",
    "logits = tf.identity(logits, name='logits')\n",
    "\n",
    "# Loss and Optimizer\n",
    "cost = tf.reduce_mean(tf.nn.softmax_cross_entropy_with_logits(logits=logits, labels=y))\n",
    "optimizer = tf.train.AdamOptimizer().minimize(cost)\n",
    "\n",
    "# Accuracy\n",
    "correct_pred = tf.equal(tf.argmax(logits, 1), tf.argmax(y, 1))\n",
    "accuracy = tf.reduce_mean(tf.cast(correct_pred, tf.float32), name='accuracy')\n",
    "\n",
    "tests.test_conv_net(conv_net)"
   ]
  },
  {
   "cell_type": "markdown",
   "metadata": {},
   "source": [
    "## Train the Neural Network\n",
    "### Single Optimization\n",
    "Implement the function `train_neural_network` to do a single optimization.  The optimization should use `optimizer` to optimize in `session` with a `feed_dict` of the following:\n",
    "* `x` for image input\n",
    "* `y` for labels\n",
    "* `keep_prob` for keep probability for dropout\n",
    "\n",
    "This function will be called for each batch, so `tf.global_variables_initializer()` has already been called.\n",
    "\n",
    "Note: Nothing needs to be returned. This function is only optimizing the neural network."
   ]
  },
  {
   "cell_type": "code",
   "execution_count": 18,
   "metadata": {},
   "outputs": [
    {
     "name": "stdout",
     "output_type": "stream",
     "text": [
      "Tests Passed\n"
     ]
    }
   ],
   "source": [
    "def train_neural_network(session, optimizer, keep_probability, feature_batch, label_batch):\n",
    "    \"\"\"\n",
    "    Optimize the session on a batch of images and labels\n",
    "    : session: Current TensorFlow session\n",
    "    : optimizer: TensorFlow optimizer function\n",
    "    : keep_probability: keep probability\n",
    "    : feature_batch: Batch of Numpy image data\n",
    "    : label_batch: Batch of Numpy label data\n",
    "    \"\"\"\n",
    "    # TODO: Implement Function\n",
    "    session.run(optimizer, feed_dict={x:feature_batch, y:label_batch, keep_prob:keep_probability})\n",
    "\n",
    "\n",
    "\"\"\"\n",
    "DON'T MODIFY ANYTHING IN THIS CELL THAT IS BELOW THIS LINE\n",
    "\"\"\"\n",
    "tests.test_train_nn(train_neural_network)"
   ]
  },
  {
   "cell_type": "markdown",
   "metadata": {},
   "source": [
    "### Show Stats\n",
    "Implement the function `print_stats` to print loss and validation accuracy.  Use the global variables `valid_features` and `valid_labels` to calculate validation accuracy.  Use a keep probability of `1.0` to calculate the loss and validation accuracy."
   ]
  },
  {
   "cell_type": "code",
   "execution_count": 22,
   "metadata": {},
   "outputs": [],
   "source": [
    "def print_stats(session, feature_batch, label_batch, cost, accuracy):\n",
    "    \"\"\"\n",
    "    Print information about loss and validation accuracy\n",
    "    : session: Current TensorFlow session\n",
    "    : feature_batch: Batch of Numpy image data\n",
    "    : label_batch: Batch of Numpy label data\n",
    "    : cost: TensorFlow cost function\n",
    "    : accuracy: TensorFlow accuracy function\n",
    "    \"\"\"\n",
    "    # TODO: Implement Function\n",
    "    loss = session.run(cost, feed_dict={x:feature_batch, y:label_batch, keep_prob: 1.0})\n",
    "    accuracy = session.run(accuracy, feed_dict={x: valid_features, y:valid_labels, keep_prob:1.0})\n",
    "    \n",
    "    print(' Loss : {}  Validation Accuracy : {}'.format(loss, accuracy))"
   ]
  },
  {
   "cell_type": "markdown",
   "metadata": {},
   "source": [
    "### Hyperparameters\n",
    "Tune the following parameters:\n",
    "* Set `epochs` to the number of iterations until the network stops learning or start overfitting\n",
    "* Set `batch_size` to the highest number that your machine has memory for.  Most people set them to common sizes of memory:\n",
    " * 64\n",
    " * 128\n",
    " * 256\n",
    " * ...\n",
    "* Set `keep_probability` to the probability of keeping a node using dropout"
   ]
  },
  {
   "cell_type": "code",
   "execution_count": 23,
   "metadata": {},
   "outputs": [],
   "source": [
    "# TODO: Tune Parameters\n",
    "epochs = 25\n",
    "batch_size = 64\n",
    "keep_probability = 0.7"
   ]
  },
  {
   "cell_type": "markdown",
   "metadata": {},
   "source": [
    "### Train on a Single CIFAR-10 Batch\n",
    "Instead of training the neural network on all the CIFAR-10 batches of data, let's use a single batch. This should save time while you iterate on the model to get a better accuracy.  Once the final validation accuracy is 50% or greater, run the model on all the data in the next section."
   ]
  },
  {
   "cell_type": "code",
   "execution_count": 24,
   "metadata": {},
   "outputs": [
    {
     "name": "stdout",
     "output_type": "stream",
     "text": [
      "Checking the Training on a Single Batch...\n",
      "Epoch  1, CIFAR-10 Batch 1:   Loss : 1.9816919565200806  Validation Accuracy : 0.3158000111579895\n",
      "Epoch  2, CIFAR-10 Batch 1:   Loss : 1.8623260259628296  Validation Accuracy : 0.39879998564720154\n",
      "Epoch  3, CIFAR-10 Batch 1:   Loss : 1.7234159708023071  Validation Accuracy : 0.45399999618530273\n",
      "Epoch  4, CIFAR-10 Batch 1:   Loss : 1.566192388534546  Validation Accuracy : 0.48739999532699585\n",
      "Epoch  5, CIFAR-10 Batch 1:   Loss : 1.531200647354126  Validation Accuracy : 0.5116000175476074\n",
      "Epoch  6, CIFAR-10 Batch 1:   Loss : 1.3916853666305542  Validation Accuracy : 0.5139999985694885\n",
      "Epoch  7, CIFAR-10 Batch 1:   Loss : 1.2428213357925415  Validation Accuracy : 0.5356000065803528\n",
      "Epoch  8, CIFAR-10 Batch 1:   Loss : 1.1536657810211182  Validation Accuracy : 0.5396000146865845\n",
      "Epoch  9, CIFAR-10 Batch 1:   Loss : 1.0522674322128296  Validation Accuracy : 0.5526000261306763\n",
      "Epoch 10, CIFAR-10 Batch 1:   Loss : 1.0172375440597534  Validation Accuracy : 0.5551999807357788\n",
      "Epoch 11, CIFAR-10 Batch 1:   Loss : 0.8989326357841492  Validation Accuracy : 0.5612000226974487\n",
      "Epoch 12, CIFAR-10 Batch 1:   Loss : 0.851990818977356  Validation Accuracy : 0.569599986076355\n",
      "Epoch 13, CIFAR-10 Batch 1:   Loss : 0.8019014596939087  Validation Accuracy : 0.5641999840736389\n",
      "Epoch 14, CIFAR-10 Batch 1:   Loss : 0.668225109577179  Validation Accuracy : 0.5763999819755554\n",
      "Epoch 15, CIFAR-10 Batch 1:   Loss : 0.6234505772590637  Validation Accuracy : 0.5861999988555908\n",
      "Epoch 16, CIFAR-10 Batch 1:   Loss : 0.6026167869567871  Validation Accuracy : 0.5875999927520752\n",
      "Epoch 17, CIFAR-10 Batch 1:   Loss : 0.6106959581375122  Validation Accuracy : 0.5968000292778015\n",
      "Epoch 18, CIFAR-10 Batch 1:   Loss : 0.5987356901168823  Validation Accuracy : 0.5917999744415283\n",
      "Epoch 19, CIFAR-10 Batch 1:   Loss : 0.6311601400375366  Validation Accuracy : 0.5863999724388123\n",
      "Epoch 20, CIFAR-10 Batch 1:   Loss : 0.5533196926116943  Validation Accuracy : 0.5821999907493591\n",
      "Epoch 21, CIFAR-10 Batch 1:   Loss : 0.4910818934440613  Validation Accuracy : 0.5834000110626221\n",
      "Epoch 22, CIFAR-10 Batch 1:   Loss : 0.4473227560520172  Validation Accuracy : 0.5824000239372253\n",
      "Epoch 23, CIFAR-10 Batch 1:   Loss : 0.3769129514694214  Validation Accuracy : 0.574999988079071\n",
      "Epoch 24, CIFAR-10 Batch 1:   Loss : 0.3189346492290497  Validation Accuracy : 0.5964000225067139\n",
      "Epoch 25, CIFAR-10 Batch 1:   Loss : 0.35830003023147583  Validation Accuracy : 0.5946000218391418\n"
     ]
    }
   ],
   "source": [
    "\"\"\"\n",
    "DON'T MODIFY ANYTHING IN THIS CELL\n",
    "\"\"\"\n",
    "print('Checking the Training on a Single Batch...')\n",
    "with tf.Session() as sess:\n",
    "    # Initializing the variables\n",
    "    sess.run(tf.global_variables_initializer())\n",
    "    \n",
    "    # Training cycle\n",
    "    for epoch in range(epochs):\n",
    "        batch_i = 1\n",
    "        for batch_features, batch_labels in helper.load_preprocess_training_batch(batch_i, batch_size):\n",
    "            train_neural_network(sess, optimizer, keep_probability, batch_features, batch_labels)\n",
    "        print('Epoch {:>2}, CIFAR-10 Batch {}:  '.format(epoch + 1, batch_i), end='')\n",
    "        print_stats(sess, batch_features, batch_labels, cost, accuracy)"
   ]
  },
  {
   "cell_type": "markdown",
   "metadata": {},
   "source": [
    "### Fully Train the Model\n",
    "Now that you got a good accuracy with a single CIFAR-10 batch, try it with all five batches."
   ]
  },
  {
   "cell_type": "code",
   "execution_count": 25,
   "metadata": {},
   "outputs": [
    {
     "name": "stdout",
     "output_type": "stream",
     "text": [
      "Training...\n",
      "Epoch  1, CIFAR-10 Batch 1:   Loss : 1.9732894897460938  Validation Accuracy : 0.3808000087738037\n",
      "Epoch  1, CIFAR-10 Batch 2:   Loss : 1.643026351928711  Validation Accuracy : 0.44780001044273376\n",
      "Epoch  1, CIFAR-10 Batch 3:   Loss : 1.3353908061981201  Validation Accuracy : 0.4580000042915344\n",
      "Epoch  1, CIFAR-10 Batch 4:   Loss : 1.323634386062622  Validation Accuracy : 0.5091999769210815\n",
      "Epoch  1, CIFAR-10 Batch 5:   Loss : 1.443813681602478  Validation Accuracy : 0.5356000065803528\n",
      "Epoch  2, CIFAR-10 Batch 1:   Loss : 1.5548728704452515  Validation Accuracy : 0.550599992275238\n",
      "Epoch  2, CIFAR-10 Batch 2:   Loss : 1.3351253271102905  Validation Accuracy : 0.5442000031471252\n",
      "Epoch  2, CIFAR-10 Batch 3:   Loss : 1.050624132156372  Validation Accuracy : 0.574400007724762\n",
      "Epoch  2, CIFAR-10 Batch 4:   Loss : 1.06940495967865  Validation Accuracy : 0.5861999988555908\n",
      "Epoch  2, CIFAR-10 Batch 5:   Loss : 1.2293155193328857  Validation Accuracy : 0.6010000109672546\n",
      "Epoch  3, CIFAR-10 Batch 1:   Loss : 1.3075988292694092  Validation Accuracy : 0.6092000007629395\n",
      "Epoch  3, CIFAR-10 Batch 2:   Loss : 1.0599015951156616  Validation Accuracy : 0.6140000224113464\n",
      "Epoch  3, CIFAR-10 Batch 3:   Loss : 0.9155992269515991  Validation Accuracy : 0.6097999811172485\n",
      "Epoch  3, CIFAR-10 Batch 4:   Loss : 0.9913126230239868  Validation Accuracy : 0.6060000061988831\n",
      "Epoch  3, CIFAR-10 Batch 5:   Loss : 1.0023059844970703  Validation Accuracy : 0.6349999904632568\n",
      "Epoch  4, CIFAR-10 Batch 1:   Loss : 1.0974351167678833  Validation Accuracy : 0.6363999843597412\n",
      "Epoch  4, CIFAR-10 Batch 2:   Loss : 0.9310676455497742  Validation Accuracy : 0.6309999823570251\n",
      "Epoch  4, CIFAR-10 Batch 3:   Loss : 0.7158832550048828  Validation Accuracy : 0.656000018119812\n",
      "Epoch  4, CIFAR-10 Batch 4:   Loss : 0.9028903841972351  Validation Accuracy : 0.6330000162124634\n",
      "Epoch  4, CIFAR-10 Batch 5:   Loss : 0.9493009448051453  Validation Accuracy : 0.6618000268936157\n",
      "Epoch  5, CIFAR-10 Batch 1:   Loss : 1.0573580265045166  Validation Accuracy : 0.6669999957084656\n",
      "Epoch  5, CIFAR-10 Batch 2:   Loss : 0.8911697268486023  Validation Accuracy : 0.6686000227928162\n",
      "Epoch  5, CIFAR-10 Batch 3:   Loss : 0.6427680850028992  Validation Accuracy : 0.6633999943733215\n",
      "Epoch  5, CIFAR-10 Batch 4:   Loss : 0.8620802164077759  Validation Accuracy : 0.6638000011444092\n",
      "Epoch  5, CIFAR-10 Batch 5:   Loss : 0.8570016026496887  Validation Accuracy : 0.6740000247955322\n",
      "Epoch  6, CIFAR-10 Batch 1:   Loss : 0.9800338745117188  Validation Accuracy : 0.6773999929428101\n",
      "Epoch  6, CIFAR-10 Batch 2:   Loss : 0.8236014246940613  Validation Accuracy : 0.6854000091552734\n",
      "Epoch  6, CIFAR-10 Batch 3:   Loss : 0.5191008448600769  Validation Accuracy : 0.6912000179290771\n",
      "Epoch  6, CIFAR-10 Batch 4:   Loss : 0.7115247249603271  Validation Accuracy : 0.6891999840736389\n",
      "Epoch  6, CIFAR-10 Batch 5:   Loss : 0.7801996469497681  Validation Accuracy : 0.6844000220298767\n",
      "Epoch  7, CIFAR-10 Batch 1:   Loss : 0.7406882047653198  Validation Accuracy : 0.6876000165939331\n",
      "Epoch  7, CIFAR-10 Batch 2:   Loss : 0.7203412055969238  Validation Accuracy : 0.6998000144958496\n",
      "Epoch  7, CIFAR-10 Batch 3:   Loss : 0.4326508045196533  Validation Accuracy : 0.6995999813079834\n",
      "Epoch  7, CIFAR-10 Batch 4:   Loss : 0.7211413383483887  Validation Accuracy : 0.7008000016212463\n",
      "Epoch  7, CIFAR-10 Batch 5:   Loss : 0.6993010640144348  Validation Accuracy : 0.6952000260353088\n",
      "Epoch  8, CIFAR-10 Batch 1:   Loss : 0.7141197323799133  Validation Accuracy : 0.7031999826431274\n",
      "Epoch  8, CIFAR-10 Batch 2:   Loss : 0.7306661605834961  Validation Accuracy : 0.7124000191688538\n",
      "Epoch  8, CIFAR-10 Batch 3:   Loss : 0.3907453417778015  Validation Accuracy : 0.7071999907493591\n",
      "Epoch  8, CIFAR-10 Batch 4:   Loss : 0.6775015592575073  Validation Accuracy : 0.7106000185012817\n",
      "Epoch  8, CIFAR-10 Batch 5:   Loss : 0.6238299012184143  Validation Accuracy : 0.7084000110626221\n",
      "Epoch  9, CIFAR-10 Batch 1:   Loss : 0.6597106456756592  Validation Accuracy : 0.717199981212616\n",
      "Epoch  9, CIFAR-10 Batch 2:   Loss : 0.6575948596000671  Validation Accuracy : 0.7084000110626221\n",
      "Epoch  9, CIFAR-10 Batch 3:   Loss : 0.34113845229148865  Validation Accuracy : 0.699400007724762\n",
      "Epoch  9, CIFAR-10 Batch 4:   Loss : 0.6312255263328552  Validation Accuracy : 0.7085999846458435\n",
      "Epoch  9, CIFAR-10 Batch 5:   Loss : 0.5560554265975952  Validation Accuracy : 0.704800009727478\n",
      "Epoch 10, CIFAR-10 Batch 1:   Loss : 0.6274901628494263  Validation Accuracy : 0.7110000252723694\n",
      "Epoch 10, CIFAR-10 Batch 2:   Loss : 0.5927162170410156  Validation Accuracy : 0.7233999967575073\n",
      "Epoch 10, CIFAR-10 Batch 3:   Loss : 0.3053506910800934  Validation Accuracy : 0.699999988079071\n",
      "Epoch 10, CIFAR-10 Batch 4:   Loss : 0.5175197720527649  Validation Accuracy : 0.7182000279426575\n",
      "Epoch 10, CIFAR-10 Batch 5:   Loss : 0.5134342908859253  Validation Accuracy : 0.7142000198364258\n",
      "Epoch 11, CIFAR-10 Batch 1:   Loss : 0.5608329772949219  Validation Accuracy : 0.7106000185012817\n",
      "Epoch 11, CIFAR-10 Batch 2:   Loss : 0.5395818948745728  Validation Accuracy : 0.7193999886512756\n",
      "Epoch 11, CIFAR-10 Batch 3:   Loss : 0.2580043375492096  Validation Accuracy : 0.7203999757766724\n",
      "Epoch 11, CIFAR-10 Batch 4:   Loss : 0.6132321357727051  Validation Accuracy : 0.7020000219345093\n",
      "Epoch 11, CIFAR-10 Batch 5:   Loss : 0.4649457037448883  Validation Accuracy : 0.7325999736785889\n",
      "Epoch 12, CIFAR-10 Batch 1:   Loss : 0.4896390438079834  Validation Accuracy : 0.7080000042915344\n",
      "Epoch 12, CIFAR-10 Batch 2:   Loss : 0.5401090979576111  Validation Accuracy : 0.7106000185012817\n",
      "Epoch 12, CIFAR-10 Batch 3:   Loss : 0.26557043194770813  Validation Accuracy : 0.7164000272750854\n",
      "Epoch 12, CIFAR-10 Batch 4:   Loss : 0.5138643980026245  Validation Accuracy : 0.7117999792098999\n",
      "Epoch 12, CIFAR-10 Batch 5:   Loss : 0.409740149974823  Validation Accuracy : 0.7235999703407288\n",
      "Epoch 13, CIFAR-10 Batch 1:   Loss : 0.4968377947807312  Validation Accuracy : 0.7149999737739563\n",
      "Epoch 13, CIFAR-10 Batch 2:   Loss : 0.4615219235420227  Validation Accuracy : 0.7149999737739563\n",
      "Epoch 13, CIFAR-10 Batch 3:   Loss : 0.2819070816040039  Validation Accuracy : 0.7107999920845032\n",
      "Epoch 13, CIFAR-10 Batch 4:   Loss : 0.5178509950637817  Validation Accuracy : 0.7071999907493591\n",
      "Epoch 13, CIFAR-10 Batch 5:   Loss : 0.3623877763748169  Validation Accuracy : 0.7242000102996826\n",
      "Epoch 14, CIFAR-10 Batch 1:   Loss : 0.5110635757446289  Validation Accuracy : 0.7102000117301941\n",
      "Epoch 14, CIFAR-10 Batch 2:   Loss : 0.3710245192050934  Validation Accuracy : 0.7170000076293945\n",
      "Epoch 14, CIFAR-10 Batch 3:   Loss : 0.22576971352100372  Validation Accuracy : 0.7265999913215637\n",
      "Epoch 14, CIFAR-10 Batch 4:   Loss : 0.4419388771057129  Validation Accuracy : 0.7182000279426575\n",
      "Epoch 14, CIFAR-10 Batch 5:   Loss : 0.34304818511009216  Validation Accuracy : 0.7179999947547913\n",
      "Epoch 15, CIFAR-10 Batch 1:   Loss : 0.46079960465431213  Validation Accuracy : 0.7116000056266785\n",
      "Epoch 15, CIFAR-10 Batch 2:   Loss : 0.34261584281921387  Validation Accuracy : 0.7156000137329102\n",
      "Epoch 15, CIFAR-10 Batch 3:   Loss : 0.18326514959335327  Validation Accuracy : 0.7182000279426575\n",
      "Epoch 15, CIFAR-10 Batch 4:   Loss : 0.38332533836364746  Validation Accuracy : 0.715399980545044\n",
      "Epoch 15, CIFAR-10 Batch 5:   Loss : 0.31532344222068787  Validation Accuracy : 0.7184000015258789\n",
      "Epoch 16, CIFAR-10 Batch 1:   Loss : 0.3926007151603699  Validation Accuracy : 0.7070000171661377\n",
      "Epoch 16, CIFAR-10 Batch 2:   Loss : 0.31761059165000916  Validation Accuracy : 0.7200000286102295\n",
      "Epoch 16, CIFAR-10 Batch 3:   Loss : 0.1998978853225708  Validation Accuracy : 0.7275999784469604\n",
      "Epoch 16, CIFAR-10 Batch 4:   Loss : 0.38530871272087097  Validation Accuracy : 0.7242000102996826\n",
      "Epoch 16, CIFAR-10 Batch 5:   Loss : 0.30044761300086975  Validation Accuracy : 0.7111999988555908\n",
      "Epoch 17, CIFAR-10 Batch 1:   Loss : 0.340735524892807  Validation Accuracy : 0.7044000029563904\n",
      "Epoch 17, CIFAR-10 Batch 2:   Loss : 0.30792513489723206  Validation Accuracy : 0.7149999737739563\n",
      "Epoch 17, CIFAR-10 Batch 3:   Loss : 0.19090312719345093  Validation Accuracy : 0.7146000266075134\n",
      "Epoch 17, CIFAR-10 Batch 4:   Loss : 0.4376280903816223  Validation Accuracy : 0.7080000042915344\n"
     ]
    },
    {
     "name": "stdout",
     "output_type": "stream",
     "text": [
      "Epoch 17, CIFAR-10 Batch 5:   Loss : 0.31349432468414307  Validation Accuracy : 0.7170000076293945\n",
      "Epoch 18, CIFAR-10 Batch 1:   Loss : 0.34164437651634216  Validation Accuracy : 0.7013999819755554\n",
      "Epoch 18, CIFAR-10 Batch 2:   Loss : 0.2562568485736847  Validation Accuracy : 0.7232000231742859\n",
      "Epoch 18, CIFAR-10 Batch 3:   Loss : 0.16733944416046143  Validation Accuracy : 0.7193999886512756\n",
      "Epoch 18, CIFAR-10 Batch 4:   Loss : 0.37024152278900146  Validation Accuracy : 0.6990000009536743\n",
      "Epoch 18, CIFAR-10 Batch 5:   Loss : 0.2647930085659027  Validation Accuracy : 0.7170000076293945\n",
      "Epoch 19, CIFAR-10 Batch 1:   Loss : 0.33173444867134094  Validation Accuracy : 0.6980000138282776\n",
      "Epoch 19, CIFAR-10 Batch 2:   Loss : 0.2481764256954193  Validation Accuracy : 0.7246000170707703\n",
      "Epoch 19, CIFAR-10 Batch 3:   Loss : 0.19882917404174805  Validation Accuracy : 0.7324000000953674\n",
      "Epoch 19, CIFAR-10 Batch 4:   Loss : 0.2752828598022461  Validation Accuracy : 0.72079998254776\n",
      "Epoch 19, CIFAR-10 Batch 5:   Loss : 0.2169361561536789  Validation Accuracy : 0.7269999980926514\n",
      "Epoch 20, CIFAR-10 Batch 1:   Loss : 0.3169829249382019  Validation Accuracy : 0.6988000273704529\n",
      "Epoch 20, CIFAR-10 Batch 2:   Loss : 0.2417439967393875  Validation Accuracy : 0.7120000123977661\n",
      "Epoch 20, CIFAR-10 Batch 3:   Loss : 0.1844654381275177  Validation Accuracy : 0.7265999913215637\n",
      "Epoch 20, CIFAR-10 Batch 4:   Loss : 0.2681664824485779  Validation Accuracy : 0.704200029373169\n",
      "Epoch 20, CIFAR-10 Batch 5:   Loss : 0.24205179512500763  Validation Accuracy : 0.7229999899864197\n",
      "Epoch 21, CIFAR-10 Batch 1:   Loss : 0.288521945476532  Validation Accuracy : 0.7081999778747559\n",
      "Epoch 21, CIFAR-10 Batch 2:   Loss : 0.20420809090137482  Validation Accuracy : 0.7077999711036682\n",
      "Epoch 21, CIFAR-10 Batch 3:   Loss : 0.1124347671866417  Validation Accuracy : 0.7247999906539917\n",
      "Epoch 21, CIFAR-10 Batch 4:   Loss : 0.23174086213111877  Validation Accuracy : 0.7218000292778015\n",
      "Epoch 21, CIFAR-10 Batch 5:   Loss : 0.25114744901657104  Validation Accuracy : 0.7300000190734863\n",
      "Epoch 22, CIFAR-10 Batch 1:   Loss : 0.25817984342575073  Validation Accuracy : 0.7059999704360962\n",
      "Epoch 22, CIFAR-10 Batch 2:   Loss : 0.17100952565670013  Validation Accuracy : 0.7059999704360962\n",
      "Epoch 22, CIFAR-10 Batch 3:   Loss : 0.14582791924476624  Validation Accuracy : 0.7293999791145325\n",
      "Epoch 22, CIFAR-10 Batch 4:   Loss : 0.2381376326084137  Validation Accuracy : 0.7092000246047974\n",
      "Epoch 22, CIFAR-10 Batch 5:   Loss : 0.17968904972076416  Validation Accuracy : 0.7184000015258789\n",
      "Epoch 23, CIFAR-10 Batch 1:   Loss : 0.2912103533744812  Validation Accuracy : 0.7116000056266785\n",
      "Epoch 23, CIFAR-10 Batch 2:   Loss : 0.16840359568595886  Validation Accuracy : 0.7235999703407288\n",
      "Epoch 23, CIFAR-10 Batch 3:   Loss : 0.10735400021076202  Validation Accuracy : 0.7310000061988831\n",
      "Epoch 23, CIFAR-10 Batch 4:   Loss : 0.21838828921318054  Validation Accuracy : 0.7229999899864197\n",
      "Epoch 23, CIFAR-10 Batch 5:   Loss : 0.20410862565040588  Validation Accuracy : 0.7215999960899353\n",
      "Epoch 24, CIFAR-10 Batch 1:   Loss : 0.3179400861263275  Validation Accuracy : 0.7080000042915344\n",
      "Epoch 24, CIFAR-10 Batch 2:   Loss : 0.12578243017196655  Validation Accuracy : 0.72079998254776\n",
      "Epoch 24, CIFAR-10 Batch 3:   Loss : 0.10100911557674408  Validation Accuracy : 0.7315999865531921\n",
      "Epoch 24, CIFAR-10 Batch 4:   Loss : 0.26512664556503296  Validation Accuracy : 0.7253999710083008\n",
      "Epoch 24, CIFAR-10 Batch 5:   Loss : 0.14201436936855316  Validation Accuracy : 0.722000002861023\n",
      "Epoch 25, CIFAR-10 Batch 1:   Loss : 0.3316952586174011  Validation Accuracy : 0.7142000198364258\n",
      "Epoch 25, CIFAR-10 Batch 2:   Loss : 0.16135235130786896  Validation Accuracy : 0.7211999893188477\n",
      "Epoch 25, CIFAR-10 Batch 3:   Loss : 0.09555228054523468  Validation Accuracy : 0.7211999893188477\n",
      "Epoch 25, CIFAR-10 Batch 4:   Loss : 0.19414910674095154  Validation Accuracy : 0.7250000238418579\n",
      "Epoch 25, CIFAR-10 Batch 5:   Loss : 0.154957577586174  Validation Accuracy : 0.7192000150680542\n"
     ]
    }
   ],
   "source": [
    "\"\"\"\n",
    "DON'T MODIFY ANYTHING IN THIS CELL\n",
    "\"\"\"\n",
    "save_model_path = './image_classification'\n",
    "\n",
    "print('Training...')\n",
    "with tf.Session() as sess:\n",
    "    # Initializing the variables\n",
    "    sess.run(tf.global_variables_initializer())\n",
    "    \n",
    "    # Training cycle\n",
    "    for epoch in range(epochs):\n",
    "        # Loop over all batches\n",
    "        n_batches = 5\n",
    "        for batch_i in range(1, n_batches + 1):\n",
    "            for batch_features, batch_labels in helper.load_preprocess_training_batch(batch_i, batch_size):\n",
    "                train_neural_network(sess, optimizer, keep_probability, batch_features, batch_labels)\n",
    "            print('Epoch {:>2}, CIFAR-10 Batch {}:  '.format(epoch + 1, batch_i), end='')\n",
    "            print_stats(sess, batch_features, batch_labels, cost, accuracy)\n",
    "            \n",
    "    # Save Model\n",
    "    saver = tf.train.Saver()\n",
    "    save_path = saver.save(sess, save_model_path)"
   ]
  },
  {
   "cell_type": "markdown",
   "metadata": {},
   "source": [
    "# Checkpoint\n",
    "The model has been saved to disk.\n",
    "## Test Model\n",
    "Test your model against the test dataset.  This will be your final accuracy. You should have an accuracy greater than 50%. If you don't, keep tweaking the model architecture and parameters."
   ]
  },
  {
   "cell_type": "code",
   "execution_count": 26,
   "metadata": {},
   "outputs": [
    {
     "name": "stdout",
     "output_type": "stream",
     "text": [
      "INFO:tensorflow:Restoring parameters from ./image_classification\n",
      "Testing Accuracy: 0.7139729299363057\n",
      "\n"
     ]
    },
    {
     "data": {
      "image/png": "[encoded data removed]",
      "text/plain": [
       "<Figure size 432x288 with 8 Axes>"
      ]
     },
     "metadata": {
      "image/png": {
       "height": 319,
       "width": 355
      }
     },
     "output_type": "display_data"
    }
   ],
   "source": [
    "\"\"\"\n",
    "DON'T MODIFY ANYTHING IN THIS CELL\n",
    "\"\"\"\n",
    "%matplotlib inline\n",
    "%config InlineBackend.figure_format = 'retina'\n",
    "\n",
    "import tensorflow as tf\n",
    "import pickle\n",
    "import helper\n",
    "import random\n",
    "\n",
    "# Set batch size if not already set\n",
    "try:\n",
    "    if batch_size:\n",
    "        pass\n",
    "except NameError:\n",
    "    batch_size = 64\n",
    "\n",
    "save_model_path = './image_classification'\n",
    "n_samples = 4\n",
    "top_n_predictions = 3\n",
    "\n",
    "def test_model():\n",
    "    \"\"\"\n",
    "    Test the saved model against the test dataset\n",
    "    \"\"\"\n",
    "\n",
    "    test_features, test_labels = pickle.load(open('preprocess_training.p', mode='rb'))\n",
    "    loaded_graph = tf.Graph()\n",
    "\n",
    "    with tf.Session(graph=loaded_graph) as sess:\n",
    "        # Load model\n",
    "        loader = tf.train.import_meta_graph(save_model_path + '.meta')\n",
    "        loader.restore(sess, save_model_path)\n",
    "\n",
    "        # Get Tensors from loaded model\n",
    "        loaded_x = loaded_graph.get_tensor_by_name('x:0')\n",
    "        loaded_y = loaded_graph.get_tensor_by_name('y:0')\n",
    "        loaded_keep_prob = loaded_graph.get_tensor_by_name('keep_prob:0')\n",
    "        loaded_logits = loaded_graph.get_tensor_by_name('logits:0')\n",
    "        loaded_acc = loaded_graph.get_tensor_by_name('accuracy:0')\n",
    "        \n",
    "        # Get accuracy in batches for memory limitations\n",
    "        test_batch_acc_total = 0\n",
    "        test_batch_count = 0\n",
    "        \n",
    "        for train_feature_batch, train_label_batch in helper.batch_features_labels(test_features, test_labels, batch_size):\n",
    "            test_batch_acc_total += sess.run(\n",
    "                loaded_acc,\n",
    "                feed_dict={loaded_x: train_feature_batch, loaded_y: train_label_batch, loaded_keep_prob: 1.0})\n",
    "            test_batch_count += 1\n",
    "\n",
    "        print('Testing Accuracy: {}\\n'.format(test_batch_acc_total/test_batch_count))\n",
    "\n",
    "        # Print Random Samples\n",
    "        random_test_features, random_test_labels = tuple(zip(*random.sample(list(zip(test_features, test_labels)), n_samples)))\n",
    "        random_test_predictions = sess.run(\n",
    "            tf.nn.top_k(tf.nn.softmax(loaded_logits), top_n_predictions),\n",
    "            feed_dict={loaded_x: random_test_features, loaded_y: random_test_labels, loaded_keep_prob: 1.0})\n",
    "        helper.display_image_predictions(random_test_features, random_test_labels, random_test_predictions)\n",
    "\n",
    "\n",
    "test_model()"
   ]
  },
  {
   "cell_type": "markdown",
   "metadata": {},
   "source": [
    "## Why 50-80% Accuracy?\n",
    "You might be wondering why you can't get an accuracy any higher. First things first, 50% isn't bad for a simple CNN.  Pure guessing would get you 10% accuracy. That's because there are many more techniques that can be applied to your model and we recemmond that once you are done with this project, you explore!\n",
    "\n",
    "## Submitting This Project\n",
    "When submitting this project, make sure to run all the cells before saving the notebook.  Save the notebook file as \"image_classification.ipynb\" and save it as a HTML file under \"File\" -> \"Download as\".  Include the \"helper.py\" and \"problem_unittests.py\" files in your submission."
   ]
  }
 ],
 "metadata": {
  "kernelspec": {
   "display_name": "Python 3",
   "language": "python",
   "name": "python3"
  },
  "language_info": {
   "codemirror_mode": {
    "name": "ipython",
    "version": 3
   },
   "file_extension": ".py",
   "mimetype": "text/x-python",
   "name": "python",
   "nbconvert_exporter": "python",
   "pygments_lexer": "ipython3",
   "version": "3.5.5"
  }
 },
 "nbformat": 4,
 "nbformat_minor": 1
}
